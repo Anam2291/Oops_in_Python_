{
 "cells": [
  {
   "cell_type": "code",
   "execution_count": 10,
   "metadata": {},
   "outputs": [],
   "source": [
    " \n",
    "from abc import  ABC, abstractmethod\n",
    "class BankApp(ABC):              # in our class atleast one method should be abstract\n",
    "\n",
    "  def database(self):\n",
    "    print(\"connected to database\")\n",
    "\n",
    "  @abstractmethod\n",
    "  def security(self): # This is an abstract method, no piece of code will be executed\n",
    "    pass\n",
    "\n",
    "  @abstractmethod\n",
    "  def display(self):\n",
    "    pass\n",
    "    "
   ]
  },
  {
   "cell_type": "code",
   "execution_count": 13,
   "metadata": {},
   "outputs": [],
   "source": [
    "class MobileApp(BankApp):    # child class\n",
    "\n",
    "    def mobile_login(self):\n",
    "        print(\"Mobile App Login\")\n",
    "\n",
    "    def security(self):\n",
    "        print(\"Mobile App Security\")\n",
    "\n",
    "    def display(self):\n",
    "        print(\"Mobile App Display\")"
   ]
  },
  {
   "cell_type": "code",
   "execution_count": 14,
   "metadata": {},
   "outputs": [],
   "source": [
    "mobile_app = MobileApp()"
   ]
  },
  {
   "cell_type": "code",
   "execution_count": 15,
   "metadata": {},
   "outputs": [
    {
     "name": "stdout",
     "output_type": "stream",
     "text": [
      "Mobile App Login\n",
      "connected to database\n",
      "Mobile App Security\n"
     ]
    }
   ],
   "source": [
    "mobile_app.mobile_login()\n",
    "mobile_app.database()\n",
    "mobile_app.security()"
   ]
  },
  {
   "cell_type": "markdown",
   "metadata": {},
   "source": [
    "**Another Example**"
   ]
  },
  {
   "cell_type": "code",
   "execution_count": null,
   "metadata": {},
   "outputs": [],
   "source": [
    "from abc import  ABC, abstractmethod\n",
    "\n",
    "class Vehicle(ABC):\n",
    "\n",
    "  @abstractmethod\n",
    "  def go(self):\n",
    "    pass\n",
    "  \n",
    "  @abstractmethod\n",
    "  def stop(self):\n",
    "    pass\n"
   ]
  },
  {
   "cell_type": "code",
   "execution_count": 22,
   "metadata": {},
   "outputs": [],
   "source": [
    "class Car(Vehicle):\n",
    "  def go(self):\n",
    "    print(\"You driving the car\")\n",
    "\n",
    "\n",
    "  def stop(self):\n",
    "    print(\"You stopped the car\")"
   ]
  },
  {
   "cell_type": "code",
   "execution_count": 23,
   "metadata": {},
   "outputs": [],
   "source": [
    "car = Car()"
   ]
  },
  {
   "cell_type": "code",
   "execution_count": 25,
   "metadata": {},
   "outputs": [
    {
     "name": "stdout",
     "output_type": "stream",
     "text": [
      "You driving the car\n",
      "You stopped the car\n"
     ]
    }
   ],
   "source": [
    "car.go()\n",
    "car.stop()"
   ]
  },
  {
   "cell_type": "code",
   "execution_count": 26,
   "metadata": {},
   "outputs": [],
   "source": [
    "class Motorcycle(Vehicle):\n",
    "  def go(self):\n",
    "    print(\"You riding the motorcycle\")\n",
    "\n",
    "  def stop(self):\n",
    "    print(\"You stopped the motorcycle\")"
   ]
  },
  {
   "cell_type": "code",
   "execution_count": 27,
   "metadata": {},
   "outputs": [],
   "source": [
    "motorcycle = Motorcycle()"
   ]
  },
  {
   "cell_type": "code",
   "execution_count": 28,
   "metadata": {},
   "outputs": [
    {
     "name": "stdout",
     "output_type": "stream",
     "text": [
      "You riding the motorcycle\n",
      "You stopped the motorcycle\n"
     ]
    }
   ],
   "source": [
    "motorcycle.go()\n",
    "motorcycle.stop()"
   ]
  },
  {
   "cell_type": "code",
   "execution_count": 29,
   "metadata": {},
   "outputs": [],
   "source": [
    "class Plane(Vehicle):\n",
    "  def go(self):\n",
    "    print(\"You flying the plane\")"
   ]
  },
  {
   "cell_type": "code",
   "execution_count": 30,
   "metadata": {},
   "outputs": [
    {
     "ename": "TypeError",
     "evalue": "Can't instantiate abstract class Plane without an implementation for abstract method 'stop'",
     "output_type": "error",
     "traceback": [
      "\u001b[1;31m---------------------------------------------------------------------------\u001b[0m",
      "\u001b[1;31mTypeError\u001b[0m                                 Traceback (most recent call last)",
      "Cell \u001b[1;32mIn[30], line 1\u001b[0m\n\u001b[1;32m----> 1\u001b[0m plane \u001b[38;5;241m=\u001b[39m Plane()\n",
      "\u001b[1;31mTypeError\u001b[0m: Can't instantiate abstract class Plane without an implementation for abstract method 'stop'"
     ]
    }
   ],
   "source": [
    "plane = Plane()"
   ]
  },
  {
   "cell_type": "code",
   "execution_count": 31,
   "metadata": {},
   "outputs": [],
   "source": [
    "class Plane(Vehicle):\n",
    "  def go(self):\n",
    "    print(\"You flying the plane\")\n",
    "\n",
    "  def stop(self):\n",
    "    print(\"You stopped the plane\")\n",
    "    "
   ]
  },
  {
   "cell_type": "code",
   "execution_count": 32,
   "metadata": {},
   "outputs": [],
   "source": [
    "plane = Plane()"
   ]
  },
  {
   "cell_type": "code",
   "execution_count": 33,
   "metadata": {},
   "outputs": [
    {
     "name": "stdout",
     "output_type": "stream",
     "text": [
      "You flying the plane\n",
      "You stopped the plane\n"
     ]
    }
   ],
   "source": [
    "plane.go()\n",
    "plane.stop()"
   ]
  }
 ],
 "metadata": {
  "kernelspec": {
   "display_name": "base",
   "language": "python",
   "name": "python3"
  },
  "language_info": {
   "codemirror_mode": {
    "name": "ipython",
    "version": 3
   },
   "file_extension": ".py",
   "mimetype": "text/x-python",
   "name": "python",
   "nbconvert_exporter": "python",
   "pygments_lexer": "ipython3",
   "version": "3.12.4"
  }
 },
 "nbformat": 4,
 "nbformat_minor": 2
}
