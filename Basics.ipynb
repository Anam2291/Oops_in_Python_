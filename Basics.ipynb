{
 "cells": [
  {
   "cell_type": "code",
   "execution_count": 10,
   "metadata": {},
   "outputs": [
    {
     "name": "stdout",
     "output_type": "stream",
     "text": [
      "<__main__.Car object at 0x00000213FF743B60>\n",
      "Toyota\n",
      "2010\n",
      "False\n",
      "<__main__.Car object at 0x00000213FF743560>\n",
      "Honda\n",
      "2015\n",
      "True\n"
     ]
    }
   ],
   "source": [
    "class Car:\n",
    "     def __init__(self, model, year, for_sale):\n",
    "        self.model = model\n",
    "        self.year = year\n",
    "        self.for_sale = for_sale\n",
    "\n",
    "car1 = Car(\"Toyota\", 2010, False) \n",
    "car2 = Car(\"Honda\", 2015, True)\n",
    "\n",
    "print(car1)\n",
    "print(car1.model)   # dot is the attribute access operator\n",
    "print(car1.year)\n",
    "print(car1.for_sale)\n",
    "\n",
    "\n",
    "print(car2)\n",
    "print(car2.model)  \n",
    "print(car2.year)\n",
    "print(car2.for_sale)\n"
   ]
  },
  {
   "cell_type": "markdown",
   "metadata": {},
   "source": [
    "## Methods:\n",
    "**Methods are functions that are defined inside a class. They are used to perform actions on the objects created from the class.**\\\n",
    "**Methods are actions that object can perform.**\n"
   ]
  },
  {
   "cell_type": "code",
   "execution_count": 26,
   "metadata": {},
   "outputs": [],
   "source": [
    "class Car:\n",
    "     def __init__(self, model, year, color,for_sale):\n",
    "        self.model = model\n",
    "        self.year = year\n",
    "        self.for_sale = for_sale\n",
    "        self.color = color\n",
    "\n",
    "     def drive(self):\n",
    "         print(f\"You driving the car\")\n",
    "         print(f\"You drive the {self.model}\")\n",
    "         print(f\"You drive the {self.color} {self.model}\")\n",
    "\n",
    "     def stop(self):\n",
    "         print(f\"You stopped the car\")\n",
    "         print(f\"You stopped the {self.model}\")\n",
    "         print (f\"You stop the {self.color} {self.year}\")\n",
    "\n",
    "     def describe(self):\n",
    "         print(f\"The car is a {self.color} {self.model} from {self.year}\")\n",
    "\n",
    "\n",
    "car1 = Car(\"Toyota\", 2010, \"red\", False) \n",
    "car2 = Car(\"Honda\", 2015, \"blue\", True)\n",
    "\n",
    "\n"
   ]
  },
  {
   "cell_type": "code",
   "execution_count": 27,
   "metadata": {},
   "outputs": [
    {
     "name": "stdout",
     "output_type": "stream",
     "text": [
      "You driving the car\n",
      "You drive the Toyota\n",
      "You drive the red Toyota\n",
      "You stopped the car\n",
      "You stopped the Toyota\n",
      "You stop the red 2010\n",
      "You driving the car\n",
      "You drive the Honda\n",
      "You drive the blue Honda\n",
      "You stopped the car\n",
      "You stopped the Honda\n",
      "You stop the blue 2015\n"
     ]
    }
   ],
   "source": [
    "car1.drive()\n",
    "car1.stop()\n",
    "\n",
    "car2.drive()\n",
    "car2.stop()\n"
   ]
  },
  {
   "cell_type": "code",
   "execution_count": 29,
   "metadata": {},
   "outputs": [
    {
     "name": "stdout",
     "output_type": "stream",
     "text": [
      "The car is a red Toyota from 2010\n"
     ]
    }
   ],
   "source": [
    "car1. describe()"
   ]
  },
  {
   "cell_type": "markdown",
   "metadata": {},
   "source": [
    "**Instance Variables are defined inside the constructor method and are unique to each instance of the class.**\\\n",
    "**Class Variables are defined outside the constructor method and are shared by all instances of the class.**"
   ]
  },
  {
   "cell_type": "code",
   "execution_count": 35,
   "metadata": {},
   "outputs": [],
   "source": [
    "class Student :\n",
    "    def __init__(self, name, age):\n",
    "        self.name = name\n",
    "        self.age = age\n",
    "\n",
    "# These are instance variables"
   ]
  },
  {
   "cell_type": "code",
   "execution_count": 36,
   "metadata": {},
   "outputs": [],
   "source": [
    "student1 = Student(\"John\", 20)\n",
    "student2 = Student(\"Jane\", 21)"
   ]
  },
  {
   "cell_type": "code",
   "execution_count": 37,
   "metadata": {},
   "outputs": [
    {
     "name": "stdout",
     "output_type": "stream",
     "text": [
      "John\n",
      "20\n"
     ]
    }
   ],
   "source": [
    "print (student1.name)\n",
    "print (student1.age)"
   ]
  },
  {
   "cell_type": "code",
   "execution_count": 38,
   "metadata": {},
   "outputs": [
    {
     "name": "stdout",
     "output_type": "stream",
     "text": [
      "Jane\n",
      "21\n"
     ]
    }
   ],
   "source": [
    "print (student2.name)\n",
    "print (student2.age)"
   ]
  },
  {
   "cell_type": "markdown",
   "metadata": {},
   "source": [
    "## **Class_Variables**\n",
    "Defined outside the constructor method and are shared by all instances of the class.\\\n",
    "**Its benefit is allow you to share data among all objects created from that class.**"
   ]
  },
  {
   "cell_type": "code",
   "execution_count": 47,
   "metadata": {},
   "outputs": [],
   "source": [
    "class Student :\n",
    "    class_year = 2024\n",
    "    def __init__(self, name, age):\n",
    "        self.name = name\n",
    "        self.age = age\n"
   ]
  },
  {
   "cell_type": "code",
   "execution_count": 48,
   "metadata": {},
   "outputs": [],
   "source": [
    "student1 = Student(\"Sara\", 28)\n",
    "student2 = Student(\"Seema\", 30)"
   ]
  },
  {
   "cell_type": "code",
   "execution_count": null,
   "metadata": {},
   "outputs": [
    {
     "name": "stdout",
     "output_type": "stream",
     "text": [
      "Seema\n",
      "30\n",
      "2024\n"
     ]
    }
   ],
   "source": [
    "print (student2.name)\n",
    "print (student2.age)\n",
    "print (student2.class_year)  # Accessing the class variable using the instance"
   ]
  },
  {
   "cell_type": "code",
   "execution_count": 50,
   "metadata": {},
   "outputs": [
    {
     "name": "stdout",
     "output_type": "stream",
     "text": [
      "Sara\n",
      "28\n",
      "2024\n"
     ]
    }
   ],
   "source": [
    "print (student1.name)\n",
    "print (student1.age)\n",
    "print (Student.class_year)  # Accessing the class variable using the class name"
   ]
  },
  {
   "cell_type": "markdown",
   "metadata": {},
   "source": [
    "**If we are modifying the class variable, will use the name of class i.e 'Student' instead of self**"
   ]
  },
  {
   "cell_type": "code",
   "execution_count": 61,
   "metadata": {},
   "outputs": [],
   "source": [
    "class Student :\n",
    "    class_year = 2024\n",
    "    num_students = 0\n",
    "\n",
    "\n",
    "    def __init__(self, name, age):\n",
    "        self.name = name\n",
    "        self.age = age\n",
    "        Student.num_students += 1\n",
    "\n"
   ]
  },
  {
   "cell_type": "code",
   "execution_count": 58,
   "metadata": {},
   "outputs": [
    {
     "name": "stdout",
     "output_type": "stream",
     "text": [
      "2\n"
     ]
    }
   ],
   "source": [
    "student1 = Student(\"Sara\", 28)\n",
    "student2 = Student(\"Seema\", 30)\n",
    "\n",
    "print(student1.num_students)"
   ]
  },
  {
   "cell_type": "code",
   "execution_count": 62,
   "metadata": {},
   "outputs": [
    {
     "name": "stdout",
     "output_type": "stream",
     "text": [
      "4\n"
     ]
    }
   ],
   "source": [
    "student1 = Student(\"Sara\", 28)\n",
    "student2 = Student(\"Seema\", 30)\n",
    "student1 = Student(\"John\", 20)\n",
    "student2 = Student(\"Jane\", 21)\n",
    "\n",
    "print(student1.num_students)"
   ]
  },
  {
   "cell_type": "code",
   "execution_count": 64,
   "metadata": {},
   "outputs": [
    {
     "name": "stdout",
     "output_type": "stream",
     "text": [
      "My graduating class of 2025 has 4 students\n"
     ]
    }
   ],
   "source": [
    "class Student :\n",
    "    class_year = 2025\n",
    "    num_students = 0\n",
    "\n",
    "\n",
    "    def __init__(self, name, age):\n",
    "        self.name = name\n",
    "        self.age = age\n",
    "        Student.num_students += 1\n",
    "\n",
    "student1 = Student(\"Sara\", 28)\n",
    "student2 = Student(\"Seema\", 30)\n",
    "student1 = Student(\"John\", 20)\n",
    "student2 = Student(\"Jane\", 21)\n",
    "\n",
    "\n",
    "print(f\"My graduating class of {Student.class_year} has {Student.num_students} students\")\n"
   ]
  },
  {
   "cell_type": "code",
   "execution_count": null,
   "metadata": {},
   "outputs": [
    {
     "name": "stdout",
     "output_type": "stream",
     "text": [
      "My graduating class of 2025 has 4 students\n",
      "Sara\n",
      "Seema\n",
      "John\n",
      "Jane\n"
     ]
    }
   ],
   "source": [
    "class Student :\n",
    "    class_year = 2025\n",
    "    num_students = 0\n",
    "\n",
    "\n",
    "    def __init__(self, name, age):\n",
    "        self.name = name\n",
    "        self.age = age\n",
    "        Student.num_students += 1\n",
    "\n",
    "student1 = Student(\"Sara\", 28)\n",
    "student2 = Student(\"Seema\", 30)\n",
    "student3 = Student(\"John\", 20)\n",
    "student4 = Student(\"Jane\", 21)\n",
    "\n",
    "\n",
    "print(f\"My graduating class of {Student.class_year} has {Student.num_students} students\")\n",
    "\n",
    "\n",
    "# Print name of the student ,These are instance variables\n",
    "\n",
    "print(student1.name)\n",
    "print(student2.name)\n",
    "print(student3.name)\n",
    "print(student4.name)\n",
    "\n"
   ]
  },
  {
   "cell_type": "code",
   "execution_count": null,
   "metadata": {},
   "outputs": [],
   "source": []
  }
 ],
 "metadata": {
  "kernelspec": {
   "display_name": "base",
   "language": "python",
   "name": "python3"
  },
  "language_info": {
   "codemirror_mode": {
    "name": "ipython",
    "version": 3
   },
   "file_extension": ".py",
   "mimetype": "text/x-python",
   "name": "python",
   "nbconvert_exporter": "python",
   "pygments_lexer": "ipython3",
   "version": "3.12.4"
  }
 },
 "nbformat": 4,
 "nbformat_minor": 2
}
