{
 "cells": [
  {
   "cell_type": "markdown",
   "metadata": {},
   "source": [
    "#### Inheritance allows a class to inherit attributes and methods from another class. \n",
    "**The class that is being inherited from is called the superclass, and the class that inherits is called the subclass.**"
   ]
  },
  {
   "cell_type": "code",
   "execution_count": 77,
   "metadata": {},
   "outputs": [],
   "source": [
    "class Animal:\n",
    "    def __init__(self, name):\n",
    "     self.name = name\n",
    "     self.is_alive = True\n",
    "\n",
    "    def eat(self):\n",
    "     print(f\"{self.name} is eating.\")\n",
    "\n",
    "    def sleep(self):\n",
    "     print(f\"{self.name} is sleeping.\")\n",
    "\n",
    "class Dog(Animal):  # The Dog class is going to inherits all of the attributes and methods from Animal(parent) class\n",
    " pass\n",
    "\n",
    "class Cat(Animal):\n",
    " pass\n",
    "\n",
    "class Mouse(Animal):\n",
    " pass\n",
    "\n"
   ]
  },
  {
   "cell_type": "code",
   "execution_count": 78,
   "metadata": {},
   "outputs": [],
   "source": [
    "dog = Dog(\"Fido\")\n",
    "cat = Cat(\"Whiskers\")\n",
    "mouse = Mouse(\"Mickey\")\n"
   ]
  },
  {
   "cell_type": "markdown",
   "metadata": {},
   "source": [
    "**Even though there is nothing within these Dog, Cat and Mouse class will still have these attributes & methods from Animals class**\\\n",
    "Even though these cild class is empty but they are inheriting the parent class attributes and methods"
   ]
  },
  {
   "cell_type": "code",
   "execution_count": 79,
   "metadata": {},
   "outputs": [
    {
     "name": "stdout",
     "output_type": "stream",
     "text": [
      "Fido\n",
      "True\n",
      "Fido is eating.\n",
      "Fido is sleeping.\n"
     ]
    }
   ],
   "source": [
    "print(dog.name)\n",
    "print(dog.is_alive)\n",
    "dog.eat()  # having 'dog' method using the 'eat' method from Animals class\n",
    "dog.sleep()  # having 'dog' method using the 'sleep' method from Animals class"
   ]
  },
  {
   "cell_type": "code",
   "execution_count": 80,
   "metadata": {},
   "outputs": [
    {
     "name": "stdout",
     "output_type": "stream",
     "text": [
      "Whiskers\n",
      "True\n",
      "Whiskers is eating.\n",
      "Whiskers is sleeping.\n"
     ]
    }
   ],
   "source": [
    "print(cat.name)\n",
    "print(cat.is_alive)\n",
    "cat.eat()  # having 'cat' method using the 'eat' method from Animals class\n",
    "cat.sleep() "
   ]
  },
  {
   "cell_type": "code",
   "execution_count": 81,
   "metadata": {},
   "outputs": [
    {
     "name": "stdout",
     "output_type": "stream",
     "text": [
      "Mickey\n",
      "True\n",
      "Mickey is eating.\n",
      "Mickey is sleeping.\n"
     ]
    }
   ],
   "source": [
    "print(mouse.name)\n",
    "print(mouse.is_alive)\n",
    "mouse.eat()  # having 'mouse' method using the 'eat' method from Animals class\n",
    "mouse.sleep()"
   ]
  },
  {
   "cell_type": "markdown",
   "metadata": {},
   "source": [
    "  *With child class we can add their own attributes & methods that are different from one another*"
   ]
  },
  {
   "cell_type": "code",
   "execution_count": 82,
   "metadata": {},
   "outputs": [],
   "source": [
    "class Animal:\n",
    "    def __init__(self, name):\n",
    "     self.name = name\n",
    "     self.is_alive = True\n",
    "\n",
    "    def eat(self):\n",
    "     print(f\"{self.name} is eating.\")\n",
    "\n",
    "    def sleep(self):\n",
    "     print(f\"{self.name} is sleeping.\")\n",
    "\n",
    "class Dog(Animal):  # The Dog class is going to inherits all of the attributes and methods from Animal(parent) class\n",
    "    def speak(self):\n",
    "     print(f\"{self.name} says Woof!\")\n",
    "\n",
    "class Cat(Animal):\n",
    "    def speak(self):\n",
    "     print(f\"{self.name} says Meow!\")\n",
    "\n",
    "class Mouse(Animal):\n",
    "    def speak(self):\n",
    "     print(f\"{self.name} says Squeak!\")\n",
    "     \n",
    "dog = Dog(\"Fido\")\n",
    "cat = Cat(\"Whiskers\")\n",
    "mouse = Mouse(\"Mickey\")\n"
   ]
  },
  {
   "cell_type": "code",
   "execution_count": 83,
   "metadata": {},
   "outputs": [
    {
     "name": "stdout",
     "output_type": "stream",
     "text": [
      "Fido says Woof!\n",
      "Whiskers says Meow!\n",
      "Mickey says Squeak!\n"
     ]
    }
   ],
   "source": [
    "dog.speak()\n",
    "cat.speak()\n",
    "mouse.speak()"
   ]
  },
  {
   "cell_type": "markdown",
   "metadata": {},
   "source": [
    "## Multiple Inheritance  ## \n",
    "**Inherit from more than one class  C (A, B)**"
   ]
  },
  {
   "cell_type": "code",
   "execution_count": 84,
   "metadata": {},
   "outputs": [],
   "source": [
    "class Prey:\n",
    "    def flee(self):\n",
    "        print(\"This animal is fleeing\")\n",
    "\n",
    "class Predator:\n",
    "    def hunt(self):\n",
    "        print(\"This animal is hunting\")\n",
    "\n",
    "class Rabbit(Prey):\n",
    "    pass\n",
    "\n",
    "class Hawk(Predator):\n",
    "    pass\n",
    "\n",
    "class Fish(Prey, Predator): # This will inherit both classes(multiple inheritance)\n",
    "    pass\n",
    "\n",
    "rabbit = Rabbit()\n",
    "hawk = Hawk()\n",
    "fish = Fish()\n"
   ]
  },
  {
   "cell_type": "code",
   "execution_count": 85,
   "metadata": {},
   "outputs": [
    {
     "name": "stdout",
     "output_type": "stream",
     "text": [
      "This animal is fleeing\n"
     ]
    }
   ],
   "source": [
    "rabbit.flee()\n"
   ]
  },
  {
   "cell_type": "code",
   "execution_count": 86,
   "metadata": {},
   "outputs": [
    {
     "ename": "AttributeError",
     "evalue": "'Rabbit' object has no attribute 'hunt'",
     "output_type": "error",
     "traceback": [
      "\u001b[1;31m---------------------------------------------------------------------------\u001b[0m",
      "\u001b[1;31mAttributeError\u001b[0m                            Traceback (most recent call last)",
      "Cell \u001b[1;32mIn[86], line 1\u001b[0m\n\u001b[1;32m----> 1\u001b[0m rabbit\u001b[38;5;241m.\u001b[39mhunt()\n",
      "\u001b[1;31mAttributeError\u001b[0m: 'Rabbit' object has no attribute 'hunt'"
     ]
    }
   ],
   "source": [
    "rabbit.hunt()"
   ]
  },
  {
   "cell_type": "code",
   "execution_count": null,
   "metadata": {},
   "outputs": [
    {
     "name": "stdout",
     "output_type": "stream",
     "text": [
      "This animal is hunting\n"
     ]
    }
   ],
   "source": [
    "hawk.hunt() # hawks can hunt,they are predators they inherit that method from the predator class but can't flee"
   ]
  },
  {
   "cell_type": "code",
   "execution_count": null,
   "metadata": {},
   "outputs": [
    {
     "name": "stdout",
     "output_type": "stream",
     "text": [
      "This animal is fleeing\n",
      "This animal is hunting\n"
     ]
    }
   ],
   "source": [
    "# Fish can do both, they inherit from the prey class and predator class \n",
    "fish.flee()\n",
    "fish.hunt()  # This will work because fish has the hunt method from the predator class and the flee method from the prey class"
   ]
  },
  {
   "cell_type": "markdown",
   "metadata": {},
   "source": [
    "## Multi_level Inheritance ##\n",
    "\n",
    "**Rabbit, Hawk, Fish are the child classes. Prey and Predator are those(Rabbit, Hawk, Fish) classes  parent  and Animal is the Grand_parent**\\\n",
    "Prey and predator will inherit everything that the animal class has, Rabbit, Hawk and Fish will inherit everything that the prey and predator class have.\\\n",
    "Rabbit, Hawk and Fish classes should have the ability to eat, sleep.\\\n",
    "**A child can inherit from a parent and a parent can inherit from a grand parent**"
   ]
  },
  {
   "cell_type": "code",
   "execution_count": null,
   "metadata": {},
   "outputs": [],
   "source": [
    "class Animal:\n",
    "    def eat(self):\n",
    "        print(\"This animal is eating\")\n",
    "\n",
    "    def sleep(self):\n",
    "        print(\"This animal is sleeping\")\n",
    "\n",
    "class Prey(Animal):\n",
    "    def flee(self):\n",
    "        print(\"This animal is fleeing\")\n",
    "\n",
    "class Predator(Animal):\n",
    "    def hunt(self):\n",
    "        print(\"This animal is hunting\")\n",
    "\n",
    "class Rabbit(Prey):\n",
    "    pass\n",
    "\n",
    "class Hawk(Predator):\n",
    "    pass\n",
    "\n",
    "class Fish(Prey, Predator): # This will inherit both classes(multiple inheritance)\n",
    "    pass\n",
    "\n",
    "rabbit = Rabbit()\n",
    "hawk = Hawk()\n",
    "fish = Fish()"
   ]
  },
  {
   "cell_type": "code",
   "execution_count": null,
   "metadata": {},
   "outputs": [
    {
     "name": "stdout",
     "output_type": "stream",
     "text": [
      "This animal is eating\n",
      "This animal is sleeping\n"
     ]
    }
   ],
   "source": [
    "rabbit.eat()\n",
    "rabbit.sleep()"
   ]
  },
  {
   "cell_type": "code",
   "execution_count": null,
   "metadata": {},
   "outputs": [
    {
     "name": "stdout",
     "output_type": "stream",
     "text": [
      "This animal is eating\n",
      "This animal is sleeping\n"
     ]
    }
   ],
   "source": [
    "fish.eat()\n",
    "fish.sleep()"
   ]
  },
  {
   "cell_type": "markdown",
   "metadata": {},
   "source": [
    "**setup Contructors**"
   ]
  },
  {
   "cell_type": "code",
   "execution_count": null,
   "metadata": {},
   "outputs": [],
   "source": [
    "class Animal:\n",
    "\n",
    "    def __init__(self, name):\n",
    "        self.name = name\n",
    "\n",
    "    def eat(self):\n",
    "        print(f\" {self.name} is eating\")\n",
    "\n",
    "    def sleep(self):\n",
    "        print(f\"{self.name} is sleeping\")\n",
    "\n",
    "class Prey(Animal):\n",
    "    def flee(self):\n",
    "        print(f\" {self.name} is fleeing\")\n",
    "\n",
    "class Predator(Animal):\n",
    "    def hunt(self):\n",
    "        print(f\" {self.name} is hunting\")\n",
    "\n",
    "class Rabbit(Prey):\n",
    "    pass\n",
    "\n",
    "class Hawk(Predator):\n",
    "    pass\n",
    "\n",
    "class Fish(Prey, Predator): # This will inherit both classes(multiple inheritance)\n",
    "    pass"
   ]
  },
  {
   "cell_type": "code",
   "execution_count": null,
   "metadata": {},
   "outputs": [],
   "source": [
    "rabbit = Rabbit(\"Rabbit\")\n",
    "hawk = Hawk(\"Hawk\")\n",
    "fish = Fish(\"Fish\")"
   ]
  },
  {
   "cell_type": "code",
   "execution_count": null,
   "metadata": {},
   "outputs": [
    {
     "name": "stdout",
     "output_type": "stream",
     "text": [
      " Rabbit is eating\n",
      "Rabbit is sleeping\n",
      " Rabbit is fleeing\n"
     ]
    }
   ],
   "source": [
    "rabbit.eat()\n",
    "rabbit.sleep()\n",
    "rabbit.flee()"
   ]
  },
  {
   "cell_type": "code",
   "execution_count": null,
   "metadata": {},
   "outputs": [
    {
     "name": "stdout",
     "output_type": "stream",
     "text": [
      " Hawk is eating\n",
      "Hawk is sleeping\n",
      " Hawk is hunting\n"
     ]
    }
   ],
   "source": [
    "hawk.eat()\n",
    "hawk.sleep()\n",
    "hawk.hunt()"
   ]
  },
  {
   "cell_type": "code",
   "execution_count": null,
   "metadata": {},
   "outputs": [
    {
     "name": "stdout",
     "output_type": "stream",
     "text": [
      " Fish is eating\n",
      "Fish is sleeping\n",
      " Fish is hunting\n",
      " Fish is fleeing\n"
     ]
    }
   ],
   "source": [
    "fish.eat()\n",
    "fish.sleep()\n",
    "fish.hunt()\n",
    "fish.flee()"
   ]
  }
 ],
 "metadata": {
  "kernelspec": {
   "display_name": "base",
   "language": "python",
   "name": "python3"
  },
  "language_info": {
   "codemirror_mode": {
    "name": "ipython",
    "version": 3
   },
   "file_extension": ".py",
   "mimetype": "text/x-python",
   "name": "python",
   "nbconvert_exporter": "python",
   "pygments_lexer": "ipython3",
   "version": "3.12.4"
  }
 },
 "nbformat": 4,
 "nbformat_minor": 2
}
