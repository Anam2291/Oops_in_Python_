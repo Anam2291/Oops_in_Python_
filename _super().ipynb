{
 "cells": [
  {
   "cell_type": "markdown",
   "metadata": {},
   "source": [
    "<h1><center>super() function in Python</center></h1>\n",
    "\n",
    "- The `super()` function in Python is used in a child to call methods from a parent class. \n",
    "- It is used to give access to methods and properties of a parent or sibling class. "
   ]
  },
  {
   "cell_type": "code",
   "execution_count": 44,
   "metadata": {},
   "outputs": [],
   "source": [
    "class Shape:\n",
    "    def __init__(self, color, is_filled):\n",
    "        self.color = color\n",
    "        self.is_filled = is_filled\n",
    "\n",
    "    def describe(self):  # To extend the functionality of a method so within our shape class let create a method of describe().\n",
    "        print(f\"It is {self.color} and {'filled'  if self.is_filled else 'not filled'}\")\n",
    "    \n",
    "\n",
    "\n",
    "class Circle(Shape):\n",
    "    def __init__(self, color, is_filled, radius):\n",
    "        super().__init__(color, is_filled)\n",
    "        self.radius = radius\n",
    "   \n",
    "class Square(Shape):\n",
    "    def __init__(self, color, is_filled, width):\n",
    "        super().__init__(color, is_filled)\n",
    "        self.width = width\n",
    "\n",
    "class Triangle(Shape):\n",
    "    def __init__(self, color, is_filled, width, height):\n",
    "        super().__init__(color, is_filled)\n",
    "        self.width = width\n",
    "        self.height = height\n",
    "\n",
    "\n"
   ]
  },
  {
   "cell_type": "code",
   "execution_count": 45,
   "metadata": {},
   "outputs": [
    {
     "name": "stdout",
     "output_type": "stream",
     "text": [
      "red\n",
      "True\n",
      "5cm\n",
      "It is red and filled\n"
     ]
    }
   ],
   "source": [
    "circle = Circle(color=\"red\",is_filled= True, radius= 5)\n",
    "print(circle.color)\n",
    "print(circle.is_filled)\n",
    "print(f\"{circle.radius}cm\")\n",
    "circle.describe()"
   ]
  },
  {
   "cell_type": "code",
   "execution_count": 46,
   "metadata": {},
   "outputs": [
    {
     "name": "stdout",
     "output_type": "stream",
     "text": [
      "blue\n",
      "True\n",
      "10cm\n",
      "It is blue and filled\n"
     ]
    }
   ],
   "source": [
    "square = Square(color=\"blue\",is_filled= True, width= 10)\n",
    "print(square.color)\n",
    "print(square.is_filled)\n",
    "print(f\"{square.width}cm\")\n",
    "square.describe()"
   ]
  },
  {
   "cell_type": "code",
   "execution_count": 47,
   "metadata": {},
   "outputs": [
    {
     "name": "stdout",
     "output_type": "stream",
     "text": [
      "green\n",
      "True\n",
      "7cm\n",
      "8cm\n",
      "It is green and filled\n"
     ]
    }
   ],
   "source": [
    "triangle = Triangle(color=\"green\",is_filled= True, width= 7, height= 8)\n",
    "print(triangle.color)\n",
    "print(triangle.is_filled)\n",
    "print(f\"{triangle.width}cm\")\n",
    "print(f\"{triangle.height}cm\")\n",
    "triangle.describe()"
   ]
  },
  {
   "cell_type": "markdown",
   "metadata": {},
   "source": [
    "### Overwriting"
   ]
  },
  {
   "cell_type": "markdown",
   "metadata": {},
   "source": [
    "**When we have method overwriting we create a similar method of describe within circle, square & triangle.**\\\n",
    "If we were to call the describe method 'will we use the parents version of describe or the child version of describe?'\n",
    "\n"
   ]
  },
  {
   "cell_type": "code",
   "execution_count": 48,
   "metadata": {},
   "outputs": [],
   "source": [
    "class Shape:\n",
    "    def __init__(self, color, is_filled):\n",
    "        self.color = color\n",
    "        self.is_filled = is_filled\n",
    "\n",
    "    def describe(self):  # To extend the functionality of a method so within our shape class let create a method of describe().\n",
    "        print(f\"It is {self.color} and {'filled'  if self.is_filled else 'not filled'}\")\n",
    "    \n",
    "\n",
    "\n",
    "class Circle(Shape):\n",
    "    def __init__(self, color, is_filled, radius):\n",
    "        super().__init__(color, is_filled)\n",
    "        self.radius = radius\n",
    "\n",
    "\n",
    "    def describe(self):\n",
    "        print(f\"It is a circle with an area of {3.14 * self.radius * self.radius} cm\")\n",
    "\n",
    "\n",
    "\n",
    "   \n",
    "class Square(Shape):\n",
    "    def __init__(self, color, is_filled, width):\n",
    "        super().__init__(color, is_filled)\n",
    "        self.width = width\n",
    "\n",
    "class Triangle(Shape):\n",
    "    def __init__(self, color, is_filled, width, height):\n",
    "        super().__init__(color, is_filled)\n",
    "        self.width = width\n",
    "        self.height = height\n"
   ]
  },
  {
   "cell_type": "markdown",
   "metadata": {},
   "source": [
    "**If a child shares a similar method  with a parent we will use the child's version not the parent's version, this \"Method Overwriting\" is a way to extend the functionality of a method.**"
   ]
  },
  {
   "cell_type": "code",
   "execution_count": 49,
   "metadata": {},
   "outputs": [
    {
     "name": "stdout",
     "output_type": "stream",
     "text": [
      "It is a circle with an area of 78.5 cm\n"
     ]
    }
   ],
   "source": [
    "\n",
    "circle = Circle(color=\"red\",is_filled= True, radius= 5)\n",
    "circle.describe()\n"
   ]
  },
  {
   "cell_type": "markdown",
   "metadata": {},
   "source": [
    "- **If we want to extend the functionality of a method from a parent we can use the super() function.** \n",
    "- **not only do we want to use the describe method of child but we also want to use the describe method of the parent.** \n",
    "- **so within the child (descibe())we can call the parent's describe method using super().describe()**\n",
    "- **we are extending the functionality of the describe method.**"
   ]
  },
  {
   "cell_type": "code",
   "execution_count": 50,
   "metadata": {},
   "outputs": [],
   "source": [
    "class Shape:\n",
    "    def __init__(self, color, is_filled):\n",
    "        self.color = color\n",
    "        self.is_filled = is_filled\n",
    "\n",
    "    def describe(self):  # To extend the functionality of a method so within our shape class let create a method of describe().\n",
    "        print(f\"It is {self.color} and {'filled'  if self.is_filled else 'not filled'}\")\n",
    "    \n",
    "\n",
    "\n",
    "class Circle(Shape):\n",
    "    def __init__(self, color, is_filled, radius):\n",
    "        super().__init__(color, is_filled)\n",
    "        self.radius = radius\n",
    "\n",
    "\n",
    "    def describe(self):\n",
    "        super().describe()\n",
    "        print(f\"It is a circle with an area of {3.14 * self.radius * self.radius}cm^2\")\n",
    "\n",
    "\n",
    "\n",
    "   \n",
    "class Square(Shape):\n",
    "    def __init__(self, color, is_filled, width):\n",
    "        super().__init__(color, is_filled)\n",
    "        self.width = width\n",
    "\n",
    "    def describe(self):\n",
    "        super().describe()\n",
    "        print(f\"It is a square with an area of {self.width * self.width}cm^2\")\n",
    "\n",
    "class Triangle(Shape):\n",
    "    def __init__(self, color, is_filled, width, height):\n",
    "        super().__init__(color, is_filled)\n",
    "        self.width = width\n",
    "        self.height = height\n",
    "\n",
    "    def describe(self):\n",
    "       print(f\"It is a triangle with an area of {self.width * self.height / 2}cm^2\")\n",
    "       super().describe()\n"
   ]
  },
  {
   "cell_type": "code",
   "execution_count": 51,
   "metadata": {},
   "outputs": [
    {
     "name": "stdout",
     "output_type": "stream",
     "text": [
      "It is red and filled\n",
      "It is a circle with an area of 78.5cm^2\n"
     ]
    }
   ],
   "source": [
    "circle = Circle(color=\"red\",is_filled= True, radius= 5)\n",
    "circle.describe()"
   ]
  },
  {
   "cell_type": "code",
   "execution_count": 52,
   "metadata": {},
   "outputs": [
    {
     "name": "stdout",
     "output_type": "stream",
     "text": [
      "It is blue and not filled\n",
      "It is a square with an area of 100cm^2\n"
     ]
    }
   ],
   "source": [
    "square = Square(color=\"blue\",is_filled= False, width= 10)\n",
    "square.describe()\n"
   ]
  },
  {
   "cell_type": "code",
   "execution_count": 53,
   "metadata": {},
   "outputs": [
    {
     "name": "stdout",
     "output_type": "stream",
     "text": [
      "It is a triangle with an area of 100.0cm^2\n",
      "It is green and filled\n"
     ]
    }
   ],
   "source": [
    "triangle = Triangle(color=\"green\",is_filled= True, width= 10, height= 20)\n",
    "triangle.describe()"
   ]
  }
 ],
 "metadata": {
  "kernelspec": {
   "display_name": "base",
   "language": "python",
   "name": "python3"
  },
  "language_info": {
   "codemirror_mode": {
    "name": "ipython",
    "version": 3
   },
   "file_extension": ".py",
   "mimetype": "text/x-python",
   "name": "python",
   "nbconvert_exporter": "python",
   "pygments_lexer": "ipython3",
   "version": "3.12.4"
  }
 },
 "nbformat": 4,
 "nbformat_minor": 2
}
